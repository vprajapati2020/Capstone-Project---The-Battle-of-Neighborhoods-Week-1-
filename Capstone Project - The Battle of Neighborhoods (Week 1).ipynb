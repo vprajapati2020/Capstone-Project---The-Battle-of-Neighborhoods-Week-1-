{
 "cells": [
  {
   "cell_type": "markdown",
   "metadata": {},
   "source": [
    "# Introduction:/Background"
   ]
  },
  {
   "cell_type": "markdown",
   "metadata": {},
   "source": [
    "Capstone project required that we include Foursquare API to complete this project. We had done some homework on given data for New York, USA and Toronto, Canada and this data for both cities was readily available. Since I wanted to explore more I decided that I would prefer to collect my own data and modify it as per my needs. This became a big challenge in itself as I figured that not all the data is coherently available for most projects. I had to assume (logically) things in order to complete/discard available data to make sense or fill any gaps in data.\n",
    "\n",
    "As I currently reside in Houston, Teaxs, USA and it is a prominent metropolitan city I considered it for my project. What caught my attention during this research is:\n",
    "\n",
    "Houston is 4th largest city in USA.\n",
    "Houston recently overtook New York as most ethnically and racially diverse city in USA.\n",
    "Houston is top market for job creation in USA.\n",
    "Housing is affordable compared to other big cities.\n",
    "Houston’s unemployment rate is far below the national level.\n",
    "Houston is one of the centers of America’s oil & gas industry.\n",
    "\n",
    "At the end of this exercise I would like to visualize maps which will give price range and population range of zipcodes so some one moving into Houston can decide where he/she would like to buy a home."
   ]
  },
  {
   "cell_type": "markdown",
   "metadata": {},
   "source": [
    "# A look into Data"
   ]
  },
  {
   "cell_type": "markdown",
   "metadata": {},
   "source": [
    "As I started to search and collect relevant data, I realized that like New York and Toronto, Houston is not divided by boroughs. It has management districts and super neighborhoods. Unfortunately most of the census data is not available based on these divisions and made my data collection extremely difficult. I finally settled on zipcode as an element on which I collected my data. \n",
    "\n",
    "A) I collected map data from city of Houston website which consisted 213 zipcodes. I did not change this data as I decided to have a representation of complete greater Houston when drawing a map for greater Houston area. I modified remaining data for Houston only zipcodes.\n",
    "\n",
    "B) I wanted to include a glimpse of lifestyle for the selected zipcodes. As it is very difficult to agree on a representative factor for that I eventually decided to use median price per sqft data from house sales data.\n",
    "\n",
    "C) I also collected population data for all zipcodes. I wanted to create a choropleth map of Houston which also had relevant data for each zipcode after analysis.\n",
    "\n",
    "D) As required I used Foursquare API to explore venues around my zipcode locations and I used functions from lab assignments. For the zipcodes which got wrong latitude and longitude using geocoder, I used google maps “Nearby” search option to get correct latitude and longitude."
   ]
  }
 ],
 "metadata": {
  "kernelspec": {
   "display_name": "Python 3",
   "language": "python",
   "name": "python3"
  },
  "language_info": {
   "codemirror_mode": {
    "name": "ipython",
    "version": 3
   },
   "file_extension": ".py",
   "mimetype": "text/x-python",
   "name": "python",
   "nbconvert_exporter": "python",
   "pygments_lexer": "ipython3",
   "version": "3.7.7"
  }
 },
 "nbformat": 4,
 "nbformat_minor": 4
}
